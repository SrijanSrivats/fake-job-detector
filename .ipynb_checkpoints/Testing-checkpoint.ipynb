{
 "cells": [
  {
   "cell_type": "code",
   "execution_count": 1,
   "id": "58b2ef0f",
   "metadata": {},
   "outputs": [],
   "source": [
    "# ===============================================\n",
    "# Fake Job Prediction - Model Loading and Inference (with Probabilities)\n",
    "# ==============================================="
   ]
  },
  {
   "cell_type": "code",
   "execution_count": 2,
   "id": "dc4f5e73",
   "metadata": {},
   "outputs": [
    {
     "name": "stderr",
     "output_type": "stream",
     "text": [
      "Loading required package: NLP\n",
      "\n",
      "Loading required package: ggplot2\n",
      "\n",
      "\n",
      "Attaching package: 'ggplot2'\n",
      "\n",
      "\n",
      "The following object is masked from 'package:NLP':\n",
      "\n",
      "    annotate\n",
      "\n",
      "\n",
      "Loading required package: lattice\n",
      "\n"
     ]
    }
   ],
   "source": [
    "# Required packages\n",
    "library(tm)\n",
    "library(stringr)\n",
    "library(caret)\n",
    "library(xgboost)\n",
    "\n",
    "# Helper operator for defaults\n",
    "`%||%` <- function(a, b) if (!is.null(a)) a else b"
   ]
  },
  {
   "cell_type": "markdown",
   "id": "9c93f01e",
   "metadata": {},
   "source": [
    "# -------------------------\n",
    "# 1. LOAD TRAINED MODEL\n",
    "# -------------------------"
   ]
  },
  {
   "cell_type": "code",
   "execution_count": 3,
   "id": "c669d840",
   "metadata": {},
   "outputs": [
    {
     "name": "stdout",
     "output_type": "stream",
     "text": [
      "✅ Model loaded successfully!\n"
     ]
    }
   ],
   "source": [
    "model_path <- \"models/xgboost_model.rds\"\n",
    "if (!file.exists(model_path)) stop(\"❌ Model file not found. Make sure models/xgboost_model.rds exists.\")\n",
    "xgb_model <- readRDS(model_path)\n",
    "cat(\"✅ Model loaded successfully!\\n\")"
   ]
  },
  {
   "cell_type": "markdown",
   "id": "3bc100ee",
   "metadata": {},
   "source": [
    "# -------------------------\n",
    "# 2. TEXT PREPROCESSING FUNCTION (same as training)\n",
    "# -------------------------"
   ]
  },
  {
   "cell_type": "code",
   "execution_count": 4,
   "id": "f4051e5a",
   "metadata": {},
   "outputs": [],
   "source": [
    "preprocess_text <- function(text) {\n",
    "  if (is.na(text) || text == \"\") return(\"\")\n",
    "  text <- tolower(text)\n",
    "  text <- removePunctuation(text)\n",
    "  text <- removeNumbers(text)\n",
    "  text <- removeWords(text, stopwords(\"english\"))\n",
    "  text <- stripWhitespace(text)\n",
    "  text <- trimws(text)\n",
    "  return(text)\n",
    "}\n",
    "\n",
    "# Create text-derived numeric features\n",
    "create_text_features <- function(texts, prefix) {\n",
    "  fake_keywords <- c(\"money\",\"cash\",\"quick\",\"easy\",\"guarantee\",\"free\",\n",
    "                     \"profit\",\"income\",\"rich\",\"wealth\",\"million\",\"billion\",\n",
    "                     \"immediate\",\"urgent\",\"commission\")\n",
    "  \n",
    "  word_count <- vapply(texts, function(x) {\n",
    "    if (is.na(x) || x == \"\") return(0L)\n",
    "    w <- unlist(strsplit(x, \"\\\\s+\"))\n",
    "    w <- w[w != \"\"]\n",
    "    length(w)\n",
    "  }, integer(1))\n",
    "  \n",
    "  char_count <- nchar(texts)\n",
    "  avg_word_length <- ifelse(word_count > 0, char_count / word_count, 0)\n",
    "  \n",
    "  keyword_counts <- vapply(texts, function(txt) {\n",
    "    if (is.na(txt) || txt == \"\") return(0L)\n",
    "    sum(vapply(fake_keywords, function(k) str_count(txt, fixed(k)), integer(1)))\n",
    "  }, integer(1))\n",
    "  \n",
    "  df <- data.frame(\n",
    "    word_count = word_count,\n",
    "    char_count = char_count,\n",
    "    avg_word_length = avg_word_length,\n",
    "    keyword_counts = keyword_counts\n",
    "  )\n",
    "  colnames(df) <- paste0(prefix, c(\"_word_count\", \"_char_count\", \"_avg_word_length\", \"_fake_keywords\"))\n",
    "  return(df)\n",
    "}"
   ]
  },
  {
   "cell_type": "markdown",
   "id": "513ac421",
   "metadata": {},
   "source": [
    "# -------------------------\n",
    "# 3. PREPARE FEATURES FOR PREDICTION\n",
    "# -------------------------"
   ]
  },
  {
   "cell_type": "code",
   "execution_count": 5,
   "id": "a638d6b6",
   "metadata": {},
   "outputs": [],
   "source": [
    "prepare_features <- function(job_post) {\n",
    "  # Ensure text fields exist\n",
    "  text_fields <- c(\"title\",\"description\",\"requirements\",\"benefits\",\"company_profile\")\n",
    "  for (f in text_fields) {\n",
    "    if (!f %in% names(job_post)) job_post[[f]] <- \"\"\n",
    "    if (is.na(job_post[[f]])) job_post[[f]] <- \"\"\n",
    "  }\n",
    "  \n",
    "  # Numeric flags\n",
    "  telecommuting <- as.integer(job_post$telecommuting %||% 0)\n",
    "  has_company_logo <- as.integer(job_post$has_company_logo %||% 0)\n",
    "  has_questions <- as.integer(job_post$has_questions %||% 0)\n",
    "  \n",
    "  # Preprocess text\n",
    "  desc_clean <- preprocess_text(job_post$description)\n",
    "  req_clean <- preprocess_text(job_post$requirements)\n",
    "  \n",
    "  # Feature engineering\n",
    "  desc_feats <- create_text_features(desc_clean, \"desc\")\n",
    "  req_feats <- create_text_features(req_clean, \"req\")\n",
    "  \n",
    "  # Basic numeric features\n",
    "  essential <- data.frame(\n",
    "    telecommuting = telecommuting,\n",
    "    has_company_logo = has_company_logo,\n",
    "    has_questions = has_questions,\n",
    "    desc_length = nchar(job_post$description),\n",
    "    req_length = nchar(job_post$requirements),\n",
    "    benefits_length = nchar(job_post$benefits),\n",
    "    company_profile_length = nchar(job_post$company_profile),\n",
    "    title_length = nchar(job_post$title),\n",
    "    salary_keywords = str_count(tolower(paste(job_post$description, job_post$requirements, job_post$benefits)), \n",
    "                                \"unpaid|volunteer|no salary|commission only|paid after\"),\n",
    "    urgency_keywords = str_count(tolower(paste(job_post$description, job_post$requirements)), \n",
    "                                 \"immediate|urgent|quick|start now|apply now|asap\")\n",
    "  )\n",
    "  \n",
    "  final <- cbind(essential, desc_feats, req_feats)\n",
    "  return(final)\n",
    "}"
   ]
  },
  {
   "cell_type": "markdown",
   "id": "166986db",
   "metadata": {},
   "source": [
    "# -------------------------\n",
    "# 4. PREDICTION FUNCTION (with probabilities)\n",
    "# -------------------------"
   ]
  },
  {
   "cell_type": "code",
   "execution_count": 6,
   "id": "daf426e5",
   "metadata": {},
   "outputs": [],
   "source": [
    "predict_fake_job <- function(job_post) {\n",
    "  features <- prepare_features(job_post)\n",
    "  \n",
    "  # Predict probabilities using the model\n",
    "  probs <- predict(xgb_model, newdata = features, type = \"prob\")\n",
    "  \n",
    "  # If output is numeric (some caret versions)\n",
    "  if (is.numeric(probs)) {\n",
    "    # When the model is not wrapped with caret's twoClassSummary\n",
    "    probs <- data.frame(No = 1 - probs, Yes = probs)\n",
    "  }\n",
    "  \n",
    "  # Determine class with highest probability\n",
    "  prediction <- ifelse(probs$Yes >= 0.5, \"Yes\", \"No\")\n",
    "  \n",
    "  result <- data.frame(\n",
    "    Prediction = prediction,\n",
    "    Probability_Fake = round(probs$Yes, 4),\n",
    "    Probability_Genuine = round(probs$No, 4),\n",
    "    Message = ifelse(prediction == \"Yes\", \n",
    "                     \"⚠️ This job post is likely FAKE.\", \n",
    "                     \"✅ This job post seems GENUINE.\")\n",
    "  )\n",
    "  return(result)\n",
    "}"
   ]
  },
  {
   "cell_type": "markdown",
   "id": "425356ab",
   "metadata": {},
   "source": [
    "# -------------------------\n",
    "# 5. EXAMPLE USAGE\n",
    "# -------------------------"
   ]
  },
  {
   "cell_type": "code",
   "execution_count": 7,
   "id": "50c0ac91",
   "metadata": {},
   "outputs": [
    {
     "name": "stdout",
     "output_type": "stream",
     "text": [
      "\n",
      "🔍 Predicting for example job post...\n",
      "  Prediction Probability_Fake Probability_Genuine\n",
      "1         No           0.0015              0.9985\n",
      "                          Message\n",
      "1 ✅ This job post seems GENUINE.\n"
     ]
    }
   ],
   "source": [
    "example_job <- list(\n",
    "  title = \"Work from home data entry - earn Rs.5000 daily\",\n",
    "  description = \"Urgent hiring! Immediate start. Earn money fast with simple typing work. No experience needed.\",\n",
    "  requirements = \"Computer, internet connection. Apply now!\",\n",
    "  benefits = \"Quick payments and flexible schedule.\",\n",
    "  company_profile = \"We are an online freelancing company.\",\n",
    "  telecommuting = 1,\n",
    "  has_company_logo = 0,\n",
    "  has_questions = 0\n",
    ")\n",
    "\n",
    "cat(\"\\n🔍 Predicting for example job post...\\n\")\n",
    "result <- predict_fake_job(example_job)\n",
    "print(result)"
   ]
  }
 ],
 "metadata": {
  "kernelspec": {
   "display_name": "R",
   "language": "R",
   "name": "ir"
  },
  "language_info": {
   "codemirror_mode": "r",
   "file_extension": ".r",
   "mimetype": "text/x-r-source",
   "name": "R",
   "pygments_lexer": "r",
   "version": "4.5.1"
  }
 },
 "nbformat": 4,
 "nbformat_minor": 5
}
